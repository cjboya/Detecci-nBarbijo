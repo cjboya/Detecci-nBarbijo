{
 "cells": [
  {
   "cell_type": "markdown",
   "id": "263016cc",
   "metadata": {},
   "source": [
    "# Detección de rostros con barbijo\n",
    "\n",
    "0. Conseguir fotos de rostros: con barbijo / sin barbijos.\n",
    "1. Escalar las imagenes de prueba.\n",
    "1. Entrenar modelo.\n",
    "2. Exportar el modelo."
   ]
  },
  {
   "cell_type": "code",
   "execution_count": 3,
   "id": "46acca3d",
   "metadata": {},
   "outputs": [],
   "source": [
    "import cv2\n",
    "import numpy as np\n",
    "import mediapipe\n",
    "import os"
   ]
  },
  {
   "cell_type": "code",
   "execution_count": 4,
   "id": "d00d9a47",
   "metadata": {},
   "outputs": [
    {
     "name": "stdout",
     "output_type": "stream",
     "text": [
      "['Con_mascarilla', 'Sin_mascarilla']\n"
     ]
    }
   ],
   "source": [
    "imagenes = r\"C:\\Users\\Distancia\\Desktop\\Proyectos\\proyecto reconocimiento de rostros\\Mascarillas dataset\\Dataset_faces\"\n",
    "lista_dir = os.listdir(imagenes)\n",
    "print(lista_dir)"
   ]
  },
  {
   "cell_type": "code",
   "execution_count": 8,
   "id": "0a8db21d",
   "metadata": {},
   "outputs": [],
   "source": [
    "labels = []\n",
    "faces_data = []\n",
    "label = 0\n",
    "\n",
    "for nombre_dir in lista_dir:\n",
    "    ruta = f\"{imagenes}/{nombre_dir}\"\n",
    "    for nombre_archivo in os.listdir(ruta):\n",
    "        imagen = f\"{ruta}/{nombre_archivo}\"\n",
    "        img = cv2.imread(imagen,0) \n",
    "        cv2.imshow(\"imagen\",img)\n",
    "        cv2.waitKey(10)\n",
    "        faces_data.append(img)\n",
    "        labels.append(label)\n",
    "    cv2.destroyAllWindows()\n",
    "    label+=1\n",
    "    \n",
    "    "
   ]
  },
  {
   "cell_type": "code",
   "execution_count": 12,
   "id": "079d558b",
   "metadata": {},
   "outputs": [
    {
     "name": "stdout",
     "output_type": "stream",
     "text": [
      "Con barbijo etiqueta '0' : 385\n",
      "Sin barbijo etiqueta '1' : 385\n"
     ]
    }
   ],
   "source": [
    "print(\"Con barbijo etiqueta '0' :\", labels.count(0))\n",
    "print(\"Sin barbijo etiqueta '1' :\", labels.count(1))"
   ]
  },
  {
   "cell_type": "code",
   "execution_count": 16,
   "id": "ccd33c76",
   "metadata": {},
   "outputs": [
    {
     "name": "stdout",
     "output_type": "stream",
     "text": [
      "Modelo Listo\n"
     ]
    }
   ],
   "source": [
    "face_mask = cv2.face.LBPHFaceRecognizer_create()\n",
    "face_mask.train(faces_data,np.array(labels))\n",
    "face_mask.write(r\"C:\\Users\\Distancia\\Desktop\\Proyectos\\proyecto reconocimiento de rostros\\face_mask_model.xml\")\n",
    "print(\"Modelo Listo\")"
   ]
  }
 ],
 "metadata": {
  "kernelspec": {
   "display_name": "Python 3 (ipykernel)",
   "language": "python",
   "name": "python3"
  },
  "language_info": {
   "codemirror_mode": {
    "name": "ipython",
    "version": 3
   },
   "file_extension": ".py",
   "mimetype": "text/x-python",
   "name": "python",
   "nbconvert_exporter": "python",
   "pygments_lexer": "ipython3",
   "version": "3.10.9"
  }
 },
 "nbformat": 4,
 "nbformat_minor": 5
}
